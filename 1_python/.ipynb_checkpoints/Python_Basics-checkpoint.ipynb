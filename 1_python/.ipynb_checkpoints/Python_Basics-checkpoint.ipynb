{
  "nbformat": 4,
  "nbformat_minor": 0,
  "metadata": {
    "colab": {
      "provenance": []
    },
    "kernelspec": {
      "name": "python3",
      "display_name": "Python 3"
    },
    "language_info": {
      "name": "python"
    }
  },
  "cells": [
    {
      "cell_type": "code",
      "execution_count": null,
      "metadata": {
        "colab": {
          "base_uri": "https://localhost:8080/"
        },
        "id": "c1QuG22-sPaP",
        "outputId": "0348bb4c-2223-4e94-cafa-2286e811460a"
      },
      "outputs": [
        {
          "output_type": "stream",
          "name": "stdout",
          "text": [
            "Hello World\n"
          ]
        }
      ],
      "source": [
        "print(\"Hello World\")"
      ]
    },
    {
      "cell_type": "code",
      "source": [
        "a=20\n",
        "print(type(a))"
      ],
      "metadata": {
        "colab": {
          "base_uri": "https://localhost:8080/"
        },
        "id": "yCYv57gZsc0S",
        "outputId": "fe6f1717-b0f6-4861-8792-bbfbb2bb2874"
      },
      "execution_count": null,
      "outputs": [
        {
          "output_type": "stream",
          "name": "stdout",
          "text": [
            "<class 'int'>\n"
          ]
        }
      ]
    },
    {
      "cell_type": "code",
      "source": [
        "age=19\n",
        "\n",
        "if age>18:\n",
        "  print(\"You are an adult\")\n",
        "  print(\"This is also in if block\")\n",
        "\n",
        "print(\"This is outside if block\")"
      ],
      "metadata": {
        "colab": {
          "base_uri": "https://localhost:8080/"
        },
        "id": "VSozp6c3sf0Y",
        "outputId": "744211e3-1fa6-44df-d684-94eb336262a3"
      },
      "execution_count": null,
      "outputs": [
        {
          "output_type": "stream",
          "name": "stdout",
          "text": [
            "You are an adult\n",
            "This is also in if block\n",
            "This is outside if block\n"
          ]
        }
      ]
    },
    {
      "cell_type": "code",
      "source": [
        "num=-4\n",
        "\n",
        "if num<0:\n",
        "  print(\"-ve numbet\")\n",
        "elif num>0:\n",
        "  print(\"+ve number\")\n",
        "else:\n",
        "  print(\"zero or invalid\")"
      ],
      "metadata": {
        "colab": {
          "base_uri": "https://localhost:8080/"
        },
        "id": "xCqDjhZotWOF",
        "outputId": "28652de6-8d73-470a-fc29-45f78717152c"
      },
      "execution_count": null,
      "outputs": [
        {
          "output_type": "stream",
          "name": "stdout",
          "text": [
            "-ve numbet\n"
          ]
        }
      ]
    },
    {
      "cell_type": "code",
      "source": [
        "# short hand\n",
        "\n",
        "num1 = 88\n",
        "\n",
        "print(\"Even\") if num1%2==0 else print(\"Odd\")"
      ],
      "metadata": {
        "colab": {
          "base_uri": "https://localhost:8080/"
        },
        "id": "lzhvpuEjuJ1z",
        "outputId": "6e3d6489-4afc-45dc-f42c-4187aea1514b"
      },
      "execution_count": null,
      "outputs": [
        {
          "output_type": "stream",
          "name": "stdout",
          "text": [
            "Even\n"
          ]
        }
      ]
    },
    {
      "cell_type": "code",
      "source": [
        "def greet(name):\n",
        "  print(\"================\")\n",
        "  print(\" Welcome \" + name)\n",
        "  print(\"================\")"
      ],
      "metadata": {
        "id": "AUNVqlnzu5Eg"
      },
      "execution_count": null,
      "outputs": []
    },
    {
      "cell_type": "code",
      "source": [
        "greet(\"Maaz\")\n",
        "greet(\"Ahmed\")\n",
        "greet(\"Adeen\")"
      ],
      "metadata": {
        "colab": {
          "base_uri": "https://localhost:8080/"
        },
        "id": "gbFDaGopzzoh",
        "outputId": "2db17f35-0667-46c4-cf6a-15c6809f8f4d"
      },
      "execution_count": null,
      "outputs": [
        {
          "output_type": "stream",
          "name": "stdout",
          "text": [
            "================\n",
            " Welcome Maaz\n",
            "================\n",
            "================\n",
            " Welcome Ahmed\n",
            "================\n",
            "================\n",
            " Welcome Adeen\n",
            "================\n"
          ]
        }
      ]
    },
    {
      "cell_type": "code",
      "source": [
        "i=55\n",
        "while i > 4:\n",
        "  print(\"num is : \" + str(i) )\n",
        "  i -= 5"
      ],
      "metadata": {
        "colab": {
          "base_uri": "https://localhost:8080/"
        },
        "id": "q5K9basB0C5w",
        "outputId": "7a64c912-359f-4c52-d3c2-06f26b3e3852"
      },
      "execution_count": null,
      "outputs": [
        {
          "output_type": "stream",
          "name": "stdout",
          "text": [
            "num is : 55\n",
            "num is : 50\n",
            "num is : 45\n",
            "num is : 40\n",
            "num is : 35\n",
            "num is : 30\n",
            "num is : 25\n",
            "num is : 20\n",
            "num is : 15\n",
            "num is : 10\n",
            "num is : 5\n"
          ]
        }
      ]
    },
    {
      "cell_type": "code",
      "source": [
        "def generateTable(num):\n",
        "  i=1\n",
        "  while i<=10:\n",
        "    print(str(num) + \" x \" + str(i) + \" = \" + str(num*i))\n",
        "    i+=1\n"
      ],
      "metadata": {
        "id": "8oNv2D2H1uZr"
      },
      "execution_count": null,
      "outputs": []
    },
    {
      "cell_type": "code",
      "source": [
        "generateTable(13)"
      ],
      "metadata": {
        "colab": {
          "base_uri": "https://localhost:8080/"
        },
        "id": "SL3SmIHG5FMB",
        "outputId": "73e57523-5f6a-4089-e9dc-a12309e48fe9"
      },
      "execution_count": null,
      "outputs": [
        {
          "output_type": "stream",
          "name": "stdout",
          "text": [
            "13 x 1 = 13\n",
            "13 x 2 = 26\n",
            "13 x 3 = 39\n",
            "13 x 4 = 52\n",
            "13 x 5 = 65\n",
            "13 x 6 = 78\n",
            "13 x 7 = 91\n",
            "13 x 8 = 104\n",
            "13 x 9 = 117\n",
            "13 x 10 = 130\n"
          ]
        }
      ]
    },
    {
      "cell_type": "code",
      "source": [
        "generateTable(155)"
      ],
      "metadata": {
        "colab": {
          "base_uri": "https://localhost:8080/"
        },
        "id": "StwdxB7I5KWQ",
        "outputId": "7388a00d-6c38-45f3-a548-c20e4f0b775e"
      },
      "execution_count": null,
      "outputs": [
        {
          "output_type": "stream",
          "name": "stdout",
          "text": [
            "155 x 1 = 155\n",
            "155 x 2 = 310\n",
            "155 x 3 = 465\n",
            "155 x 4 = 620\n",
            "155 x 5 = 775\n",
            "155 x 6 = 930\n",
            "155 x 7 = 1085\n",
            "155 x 8 = 1240\n",
            "155 x 9 = 1395\n",
            "155 x 10 = 1550\n"
          ]
        }
      ]
    },
    {
      "cell_type": "code",
      "source": [
        "students = [\"Ali\", \"Ahmed\", \"Sarah\"]\n",
        "\n",
        "for s in students:\n",
        "  print(\"My name is \" + s)"
      ],
      "metadata": {
        "colab": {
          "base_uri": "https://localhost:8080/"
        },
        "id": "TRDS_A-Z5NNQ",
        "outputId": "a9ba2870-f20f-4714-8e3f-1f08f3d7b1d6"
      },
      "execution_count": null,
      "outputs": [
        {
          "output_type": "stream",
          "name": "stdout",
          "text": [
            "My name is Ali\n",
            "My name is Ahmed\n",
            "My name is Sarah\n"
          ]
        }
      ]
    },
    {
      "cell_type": "code",
      "source": [
        "for x in range(7):\n",
        "  print(\"The number is \" + str(x))"
      ],
      "metadata": {
        "colab": {
          "base_uri": "https://localhost:8080/"
        },
        "id": "_0hrMT9v6qwc",
        "outputId": "3f5d03de-3421-46ac-91ee-1953e39b1590"
      },
      "execution_count": null,
      "outputs": [
        {
          "output_type": "stream",
          "name": "stdout",
          "text": [
            "The number is 0\n",
            "The number is 1\n",
            "The number is 2\n",
            "The number is 3\n",
            "The number is 4\n",
            "The number is 5\n",
            "The number is 6\n"
          ]
        }
      ]
    },
    {
      "cell_type": "code",
      "source": [
        "for x in range(2,7):\n",
        "  print(\"The number is \" + str(x))"
      ],
      "metadata": {
        "colab": {
          "base_uri": "https://localhost:8080/"
        },
        "id": "C4H3evk064gb",
        "outputId": "6383e8ee-b878-4c2f-92d0-71ae4666743b"
      },
      "execution_count": null,
      "outputs": [
        {
          "output_type": "stream",
          "name": "stdout",
          "text": [
            "The number is 2\n",
            "The number is 3\n",
            "The number is 4\n",
            "The number is 5\n",
            "The number is 6\n"
          ]
        }
      ]
    },
    {
      "cell_type": "code",
      "source": [
        "for x in range(2,7,3):\n",
        "  print(\"The number is \" + str(x))"
      ],
      "metadata": {
        "colab": {
          "base_uri": "https://localhost:8080/"
        },
        "id": "K8qpNf967a06",
        "outputId": "60c24066-5185-4257-ce2c-3c5c769f481d"
      },
      "execution_count": null,
      "outputs": [
        {
          "output_type": "stream",
          "name": "stdout",
          "text": [
            "The number is 2\n",
            "The number is 5\n"
          ]
        }
      ]
    },
    {
      "cell_type": "code",
      "source": [
        "for x in range(2,7,3):\n",
        "  print(\"The number is \" + str(x))\n",
        "else:\n",
        "  print(\"loop ended\")"
      ],
      "metadata": {
        "colab": {
          "base_uri": "https://localhost:8080/"
        },
        "id": "MK52z3eN7gZJ",
        "outputId": "7c4d5a49-6cdd-4805-dcea-9f9c02248567"
      },
      "execution_count": null,
      "outputs": [
        {
          "output_type": "stream",
          "name": "stdout",
          "text": [
            "The number is 2\n",
            "The number is 5\n",
            "loop ended\n"
          ]
        }
      ]
    },
    {
      "cell_type": "code",
      "source": [],
      "metadata": {
        "id": "DASzI2jF7lgZ"
      },
      "execution_count": null,
      "outputs": []
    }
  ]
}
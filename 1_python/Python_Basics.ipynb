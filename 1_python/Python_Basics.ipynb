{
 "cells": [
  {
   "cell_type": "code",
   "execution_count": null,
   "metadata": {
    "colab": {
     "base_uri": "https://localhost:8080/"
    },
    "id": "c1QuG22-sPaP",
    "outputId": "0348bb4c-2223-4e94-cafa-2286e811460a"
   },
   "outputs": [
    {
     "name": "stdout",
     "output_type": "stream",
     "text": [
      "Hello World\n"
     ]
    }
   ],
   "source": [
    "print(\"Hello World\")"
   ]
  },
  {
   "cell_type": "code",
   "execution_count": null,
   "metadata": {
    "colab": {
     "base_uri": "https://localhost:8080/"
    },
    "id": "yCYv57gZsc0S",
    "outputId": "fe6f1717-b0f6-4861-8792-bbfbb2bb2874"
   },
   "outputs": [
    {
     "name": "stdout",
     "output_type": "stream",
     "text": [
      "<class 'int'>\n"
     ]
    }
   ],
   "source": [
    "a=20\n",
    "print(type(a))"
   ]
  },
  {
   "cell_type": "code",
   "execution_count": null,
   "metadata": {
    "colab": {
     "base_uri": "https://localhost:8080/"
    },
    "id": "VSozp6c3sf0Y",
    "outputId": "744211e3-1fa6-44df-d684-94eb336262a3"
   },
   "outputs": [
    {
     "name": "stdout",
     "output_type": "stream",
     "text": [
      "You are an adult\n",
      "This is also in if block\n",
      "This is outside if block\n"
     ]
    }
   ],
   "source": [
    "age=19\n",
    "\n",
    "if age>18:\n",
    "  print(\"You are an adult\")\n",
    "  print(\"This is also in if block\")\n",
    "\n",
    "print(\"This is outside if block\")"
   ]
  },
  {
   "cell_type": "code",
   "execution_count": null,
   "metadata": {
    "colab": {
     "base_uri": "https://localhost:8080/"
    },
    "id": "xCqDjhZotWOF",
    "outputId": "28652de6-8d73-470a-fc29-45f78717152c"
   },
   "outputs": [
    {
     "name": "stdout",
     "output_type": "stream",
     "text": [
      "-ve numbet\n"
     ]
    }
   ],
   "source": [
    "num=-4\n",
    "\n",
    "if num<0:\n",
    "  print(\"-ve numbet\")\n",
    "elif num>0:\n",
    "  print(\"+ve number\")\n",
    "else:\n",
    "  print(\"zero or invalid\")"
   ]
  },
  {
   "cell_type": "code",
   "execution_count": null,
   "metadata": {
    "colab": {
     "base_uri": "https://localhost:8080/"
    },
    "id": "lzhvpuEjuJ1z",
    "outputId": "6e3d6489-4afc-45dc-f42c-4187aea1514b"
   },
   "outputs": [
    {
     "name": "stdout",
     "output_type": "stream",
     "text": [
      "Even\n"
     ]
    }
   ],
   "source": [
    "# short hand\n",
    "\n",
    "num1 = 88\n",
    "\n",
    "print(\"Even\") if num1%2==0 else print(\"Odd\")"
   ]
  },
  {
   "cell_type": "code",
   "execution_count": null,
   "metadata": {
    "id": "AUNVqlnzu5Eg"
   },
   "outputs": [],
   "source": [
    "def greet(name):\n",
    "  print(\"================\")\n",
    "  print(\" Welcome \" + name)\n",
    "  print(\"================\")"
   ]
  },
  {
   "cell_type": "code",
   "execution_count": null,
   "metadata": {
    "colab": {
     "base_uri": "https://localhost:8080/"
    },
    "id": "gbFDaGopzzoh",
    "outputId": "2db17f35-0667-46c4-cf6a-15c6809f8f4d"
   },
   "outputs": [
    {
     "name": "stdout",
     "output_type": "stream",
     "text": [
      "================\n",
      " Welcome Maaz\n",
      "================\n",
      "================\n",
      " Welcome Ahmed\n",
      "================\n",
      "================\n",
      " Welcome Adeen\n",
      "================\n"
     ]
    }
   ],
   "source": [
    "greet(\"Maaz\")\n",
    "greet(\"Ahmed\")\n",
    "greet(\"Adeen\")"
   ]
  },
  {
   "cell_type": "code",
   "execution_count": null,
   "metadata": {
    "colab": {
     "base_uri": "https://localhost:8080/"
    },
    "id": "q5K9basB0C5w",
    "outputId": "7a64c912-359f-4c52-d3c2-06f26b3e3852"
   },
   "outputs": [
    {
     "name": "stdout",
     "output_type": "stream",
     "text": [
      "num is : 55\n",
      "num is : 50\n",
      "num is : 45\n",
      "num is : 40\n",
      "num is : 35\n",
      "num is : 30\n",
      "num is : 25\n",
      "num is : 20\n",
      "num is : 15\n",
      "num is : 10\n",
      "num is : 5\n"
     ]
    }
   ],
   "source": [
    "i=55\n",
    "while i > 4:\n",
    "  print(\"num is : \" + str(i) )\n",
    "  i -= 5"
   ]
  },
  {
   "cell_type": "code",
   "execution_count": null,
   "metadata": {
    "id": "8oNv2D2H1uZr"
   },
   "outputs": [],
   "source": [
    "def generateTable(num):\n",
    "  i=1\n",
    "  while i<=10:\n",
    "    print(str(num) + \" x \" + str(i) + \" = \" + str(num*i))\n",
    "    i+=1\n"
   ]
  },
  {
   "cell_type": "code",
   "execution_count": null,
   "metadata": {
    "colab": {
     "base_uri": "https://localhost:8080/"
    },
    "id": "SL3SmIHG5FMB",
    "outputId": "73e57523-5f6a-4089-e9dc-a12309e48fe9"
   },
   "outputs": [
    {
     "name": "stdout",
     "output_type": "stream",
     "text": [
      "13 x 1 = 13\n",
      "13 x 2 = 26\n",
      "13 x 3 = 39\n",
      "13 x 4 = 52\n",
      "13 x 5 = 65\n",
      "13 x 6 = 78\n",
      "13 x 7 = 91\n",
      "13 x 8 = 104\n",
      "13 x 9 = 117\n",
      "13 x 10 = 130\n"
     ]
    }
   ],
   "source": [
    "generateTable(13)"
   ]
  },
  {
   "cell_type": "code",
   "execution_count": null,
   "metadata": {
    "colab": {
     "base_uri": "https://localhost:8080/"
    },
    "id": "StwdxB7I5KWQ",
    "outputId": "7388a00d-6c38-45f3-a548-c20e4f0b775e"
   },
   "outputs": [
    {
     "name": "stdout",
     "output_type": "stream",
     "text": [
      "155 x 1 = 155\n",
      "155 x 2 = 310\n",
      "155 x 3 = 465\n",
      "155 x 4 = 620\n",
      "155 x 5 = 775\n",
      "155 x 6 = 930\n",
      "155 x 7 = 1085\n",
      "155 x 8 = 1240\n",
      "155 x 9 = 1395\n",
      "155 x 10 = 1550\n"
     ]
    }
   ],
   "source": [
    "generateTable(155)"
   ]
  },
  {
   "cell_type": "code",
   "execution_count": null,
   "metadata": {
    "colab": {
     "base_uri": "https://localhost:8080/"
    },
    "id": "TRDS_A-Z5NNQ",
    "outputId": "a9ba2870-f20f-4714-8e3f-1f08f3d7b1d6"
   },
   "outputs": [
    {
     "name": "stdout",
     "output_type": "stream",
     "text": [
      "My name is Ali\n",
      "My name is Ahmed\n",
      "My name is Sarah\n"
     ]
    }
   ],
   "source": [
    "students = [\"Ali\", \"Ahmed\", \"Sarah\"]\n",
    "\n",
    "for s in students:\n",
    "  print(\"My name is \" + s)"
   ]
  },
  {
   "cell_type": "code",
   "execution_count": null,
   "metadata": {
    "colab": {
     "base_uri": "https://localhost:8080/"
    },
    "id": "_0hrMT9v6qwc",
    "outputId": "3f5d03de-3421-46ac-91ee-1953e39b1590"
   },
   "outputs": [
    {
     "name": "stdout",
     "output_type": "stream",
     "text": [
      "The number is 0\n",
      "The number is 1\n",
      "The number is 2\n",
      "The number is 3\n",
      "The number is 4\n",
      "The number is 5\n",
      "The number is 6\n"
     ]
    }
   ],
   "source": [
    "for x in range(7):\n",
    "  print(\"The number is \" + str(x))"
   ]
  },
  {
   "cell_type": "code",
   "execution_count": null,
   "metadata": {
    "colab": {
     "base_uri": "https://localhost:8080/"
    },
    "id": "C4H3evk064gb",
    "outputId": "6383e8ee-b878-4c2f-92d0-71ae4666743b"
   },
   "outputs": [
    {
     "name": "stdout",
     "output_type": "stream",
     "text": [
      "The number is 2\n",
      "The number is 3\n",
      "The number is 4\n",
      "The number is 5\n",
      "The number is 6\n"
     ]
    }
   ],
   "source": [
    "for x in range(2,7):\n",
    "  print(\"The number is \" + str(x))"
   ]
  },
  {
   "cell_type": "code",
   "execution_count": null,
   "metadata": {
    "colab": {
     "base_uri": "https://localhost:8080/"
    },
    "id": "K8qpNf967a06",
    "outputId": "60c24066-5185-4257-ce2c-3c5c769f481d"
   },
   "outputs": [
    {
     "name": "stdout",
     "output_type": "stream",
     "text": [
      "The number is 2\n",
      "The number is 5\n"
     ]
    }
   ],
   "source": [
    "for x in range(2,7,3):\n",
    "  print(\"The number is \" + str(x))"
   ]
  },
  {
   "cell_type": "code",
   "execution_count": null,
   "metadata": {
    "colab": {
     "base_uri": "https://localhost:8080/"
    },
    "id": "MK52z3eN7gZJ",
    "outputId": "7c4d5a49-6cdd-4805-dcea-9f9c02248567"
   },
   "outputs": [
    {
     "name": "stdout",
     "output_type": "stream",
     "text": [
      "The number is 2\n",
      "The number is 5\n",
      "loop ended\n"
     ]
    }
   ],
   "source": [
    "for x in range(2,7,3):\n",
    "  print(\"The number is \" + str(x))\n",
    "else:\n",
    "  print(\"loop ended\")"
   ]
  },
  {
   "cell_type": "code",
   "execution_count": null,
   "metadata": {
    "id": "DASzI2jF7lgZ"
   },
   "outputs": [],
   "source": []
  }
 ],
 "metadata": {
  "colab": {
   "provenance": []
  },
  "kernelspec": {
   "display_name": "Python 3 (ipykernel)",
   "language": "python",
   "name": "python3"
  },
  "language_info": {
   "codemirror_mode": {
    "name": "ipython",
    "version": 3
   },
   "file_extension": ".py",
   "mimetype": "text/x-python",
   "name": "python",
   "nbconvert_exporter": "python",
   "pygments_lexer": "ipython3",
   "version": "3.13.2"
  }
 },
 "nbformat": 4,
 "nbformat_minor": 4
}

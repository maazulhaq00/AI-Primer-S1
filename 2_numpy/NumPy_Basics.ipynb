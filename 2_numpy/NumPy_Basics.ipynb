{
  "nbformat": 4,
  "nbformat_minor": 0,
  "metadata": {
    "colab": {
      "provenance": []
    },
    "kernelspec": {
      "name": "python3",
      "display_name": "Python 3"
    },
    "language_info": {
      "name": "python"
    }
  },
  "cells": [
    {
      "cell_type": "code",
      "execution_count": null,
      "metadata": {
        "id": "h0CUS8UWE-Q6"
      },
      "outputs": [],
      "source": [
        "import numpy as np"
      ]
    },
    {
      "cell_type": "code",
      "source": [
        "a = np.array([1, 2, 3])\n",
        "b = np.array([[22, 34, 16], [4, 9, 10]])"
      ],
      "metadata": {
        "id": "IAZyA6AGFNFJ"
      },
      "execution_count": null,
      "outputs": []
    },
    {
      "cell_type": "code",
      "source": [
        "print(a)\n",
        "print(b)"
      ],
      "metadata": {
        "colab": {
          "base_uri": "https://localhost:8080/"
        },
        "id": "RaVwELrlFgK2",
        "outputId": "c0e0fa85-f1e6-4c62-a613-6ab508caa03d"
      },
      "execution_count": null,
      "outputs": [
        {
          "output_type": "stream",
          "name": "stdout",
          "text": [
            "[1 2 3]\n",
            "[[22 34 16]\n",
            " [ 4  9 10]]\n"
          ]
        }
      ]
    },
    {
      "cell_type": "code",
      "source": [
        "z = np.zeros((3,4))\n",
        "o = np.ones((3,4))\n",
        "r = np.random.rand(3,4)\n",
        "i = np.eye(3) # identity\n",
        "\n",
        "print(z)\n",
        "print(o)\n",
        "print(r)\n",
        "print(i)"
      ],
      "metadata": {
        "colab": {
          "base_uri": "https://localhost:8080/"
        },
        "id": "-iwC8fqKFjaG",
        "outputId": "66531db4-61ca-4cc0-c560-7d58da344bdc"
      },
      "execution_count": null,
      "outputs": [
        {
          "output_type": "stream",
          "name": "stdout",
          "text": [
            "[[0. 0. 0. 0.]\n",
            " [0. 0. 0. 0.]\n",
            " [0. 0. 0. 0.]]\n",
            "[[1. 1. 1. 1.]\n",
            " [1. 1. 1. 1.]\n",
            " [1. 1. 1. 1.]]\n",
            "[[0.88921182 0.07946127 0.52703022 0.4417529 ]\n",
            " [0.1732114  0.84865241 0.29235525 0.44320864]\n",
            " [0.83049077 0.825116   0.31688709 0.97687314]]\n",
            "[[1. 0. 0.]\n",
            " [0. 1. 0.]\n",
            " [0. 0. 1.]]\n"
          ]
        }
      ]
    },
    {
      "cell_type": "code",
      "source": [
        "# attribute / properties\n",
        "print(a.shape)\n",
        "print(b.shape)\n",
        "print(a.ndim)\n",
        "print(b.ndim)\n",
        "print(a.size)\n",
        "print(b.size)\n",
        "print(a.dtype)\n",
        "print(b.dtype)\n"
      ],
      "metadata": {
        "colab": {
          "base_uri": "https://localhost:8080/"
        },
        "id": "2UCZXE1LG1C0",
        "outputId": "3e162bd5-6cbc-4ddd-b969-ee8723c7e566",
        "collapsed": true
      },
      "execution_count": null,
      "outputs": [
        {
          "output_type": "stream",
          "name": "stdout",
          "text": [
            "(3,)\n",
            "(2, 3)\n",
            "1\n",
            "2\n",
            "3\n",
            "6\n",
            "int64\n",
            "int64\n"
          ]
        }
      ]
    },
    {
      "cell_type": "code",
      "source": [
        "# slicing & indexing\n",
        "\n",
        "nums = [12, 33, 44, 17, 46, 18, 12]\n",
        "\n",
        "print(nums[3]) # 17\n",
        "print(nums[-1]) # 12\n",
        "print(nums[-2]) # 18\n",
        "\n",
        "print(nums[2:5])\n",
        "\n",
        "print(b[1,1])\n",
        "print(b[1,:])\n",
        "print(b[:,1])"
      ],
      "metadata": {
        "colab": {
          "base_uri": "https://localhost:8080/"
        },
        "id": "0l1930fXHOYT",
        "outputId": "f2b5b749-d94e-4ecc-cacd-e2678873c336"
      },
      "execution_count": null,
      "outputs": [
        {
          "output_type": "stream",
          "name": "stdout",
          "text": [
            "17\n",
            "12\n",
            "18\n",
            "[44, 17, 46]\n",
            "9\n",
            "[ 4  9 10]\n",
            "[34  9]\n"
          ]
        }
      ]
    },
    {
      "cell_type": "code",
      "source": [
        "x = np.array([4, 5, 9])\n",
        "y = np.array([1, 2, 4])\n",
        "\n",
        "sum = x + y\n",
        "print(sum)\n",
        "\n",
        "mult = x * y\n",
        "print(mult)\n",
        "\n",
        "sq = x**2\n",
        "print(sq)\n",
        "\n",
        "print(x + 11)\n"
      ],
      "metadata": {
        "id": "BGrYhdNtIY0A",
        "colab": {
          "base_uri": "https://localhost:8080/"
        },
        "outputId": "da67a555-5d7b-4ebc-e4d6-3639f1612edb"
      },
      "execution_count": null,
      "outputs": [
        {
          "output_type": "stream",
          "name": "stdout",
          "text": [
            "[ 5  7 13]\n",
            "[ 4 10 36]\n",
            "[16 25 81]\n",
            "[15 16 20]\n"
          ]
        }
      ]
    },
    {
      "cell_type": "code",
      "source": [
        "print(np.vstack([x,y]))\n",
        "print(np.hstack([x,y]))"
      ],
      "metadata": {
        "colab": {
          "base_uri": "https://localhost:8080/"
        },
        "id": "M9MTN3C9Qw6W",
        "outputId": "92895016-06c4-4ba4-eec5-c427555a8992"
      },
      "execution_count": null,
      "outputs": [
        {
          "output_type": "stream",
          "name": "stdout",
          "text": [
            "[[4 5 9]\n",
            " [1 2 4]]\n",
            "[4 5 9 1 2 4]\n"
          ]
        }
      ]
    },
    {
      "cell_type": "code",
      "source": [
        "mat1 = np.hstack([x,y])\n",
        "\n",
        "print(np.mean(mat1))\n",
        "print(np.median(mat1))\n",
        "print(np.std(mat1))\n",
        "print(np.min(mat1))\n",
        "print(np.max(mat1))"
      ],
      "metadata": {
        "colab": {
          "base_uri": "https://localhost:8080/"
        },
        "id": "-DmYR6JdRhyR",
        "outputId": "2be81e61-9976-4026-d609-32c005cadf5a"
      },
      "execution_count": null,
      "outputs": [
        {
          "output_type": "stream",
          "name": "stdout",
          "text": [
            "4.166666666666667\n",
            "4.0\n",
            "2.5440562537456244\n",
            "1\n",
            "9\n"
          ]
        }
      ]
    },
    {
      "cell_type": "code",
      "source": [
        "print(b)\n",
        "print(b.flatten())"
      ],
      "metadata": {
        "colab": {
          "base_uri": "https://localhost:8080/"
        },
        "id": "0dUTToEtR_5B",
        "outputId": "c17fc372-776e-46a8-ba5c-7827562ce521"
      },
      "execution_count": null,
      "outputs": [
        {
          "output_type": "stream",
          "name": "stdout",
          "text": [
            "[[22 34 16]\n",
            " [ 4  9 10]]\n",
            "[22 34 16  4  9 10]\n"
          ]
        }
      ]
    },
    {
      "cell_type": "code",
      "source": [
        "mat = np.arange(16).reshape(4,4)\n",
        "print(mat)"
      ],
      "metadata": {
        "colab": {
          "base_uri": "https://localhost:8080/"
        },
        "id": "uRSH5U0bSfAv",
        "outputId": "7ff7c548-38ab-4e16-df98-9436f6456f7a"
      },
      "execution_count": null,
      "outputs": [
        {
          "output_type": "stream",
          "name": "stdout",
          "text": [
            "[[ 0  1  2  3]\n",
            " [ 4  5  6  7]\n",
            " [ 8  9 10 11]\n",
            " [12 13 14 15]]\n"
          ]
        }
      ]
    },
    {
      "cell_type": "code",
      "source": [],
      "metadata": {
        "id": "MyfI2UEgSsfv"
      },
      "execution_count": null,
      "outputs": []
    }
  ]
}
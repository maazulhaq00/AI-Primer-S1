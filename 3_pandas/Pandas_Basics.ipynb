{
  "nbformat": 4,
  "nbformat_minor": 0,
  "metadata": {
    "colab": {
      "provenance": []
    },
    "kernelspec": {
      "name": "python3",
      "display_name": "Python 3"
    },
    "language_info": {
      "name": "python"
    }
  },
  "cells": [
    {
      "cell_type": "code",
      "execution_count": null,
      "metadata": {
        "id": "6ZmwSfnoX7MX"
      },
      "outputs": [],
      "source": [
        "import pandas as pd"
      ]
    },
    {
      "cell_type": "code",
      "source": [
        "s1 = pd.Series([10, 20, 30, 40], index=['a', 'b', 'c', 'd'])\n",
        "\n",
        "print(s1)\n",
        "\n",
        "print(s1['c'])"
      ],
      "metadata": {
        "colab": {
          "base_uri": "https://localhost:8080/"
        },
        "id": "gw5pE7nMYAyP",
        "outputId": "9cee5d57-87f3-42e7-cfe2-6a4bf698fa90"
      },
      "execution_count": null,
      "outputs": [
        {
          "output_type": "stream",
          "name": "stdout",
          "text": [
            "a    10\n",
            "b    20\n",
            "c    30\n",
            "d    40\n",
            "dtype: int64\n",
            "30\n"
          ]
        }
      ]
    },
    {
      "cell_type": "code",
      "source": [
        "students_data = {\n",
        "    'Name' : [\"Adeen\", \"Rimsha\", \"Ahmed\"],\n",
        "    \"Age\" : [21, 23, 24],\n",
        "    \"Score\": [75, 85, 65]\n",
        "}\n",
        "\n",
        "students_df = pd.DataFrame(students_data)"
      ],
      "metadata": {
        "id": "_dMGJnHVYZ_M"
      },
      "execution_count": null,
      "outputs": []
    },
    {
      "cell_type": "code",
      "source": [
        "print(students_df)"
      ],
      "metadata": {
        "colab": {
          "base_uri": "https://localhost:8080/"
        },
        "id": "19yfxczuaHq7",
        "outputId": "79da3af5-7b50-4774-8baa-40a647703a51"
      },
      "execution_count": null,
      "outputs": [
        {
          "output_type": "stream",
          "name": "stdout",
          "text": [
            "     Name  Age  Score\n",
            "0   Adeen   21     75\n",
            "1  Rimsha   23     85\n",
            "2   Ahmed   24     65\n"
          ]
        }
      ]
    },
    {
      "cell_type": "code",
      "source": [
        "print(students_df['Name'])"
      ],
      "metadata": {
        "colab": {
          "base_uri": "https://localhost:8080/"
        },
        "collapsed": true,
        "id": "7KtAQFTCaJrZ",
        "outputId": "05a74c1a-4a67-4763-c3d1-0ff5be873079"
      },
      "execution_count": null,
      "outputs": [
        {
          "output_type": "stream",
          "name": "stdout",
          "text": [
            "0     Adeen\n",
            "1    Rimsha\n",
            "2     Ahmed\n",
            "Name: Name, dtype: object\n"
          ]
        }
      ]
    },
    {
      "cell_type": "code",
      "source": [
        "print(students_df.loc[2])"
      ],
      "metadata": {
        "id": "UDkCuWcRaRD4"
      },
      "execution_count": null,
      "outputs": []
    },
    {
      "cell_type": "code",
      "source": [
        "df = pd.read_excel('/content/2 - sample-data-10mins.xlsx')"
      ],
      "metadata": {
        "id": "5PpKRBWDaZ-o"
      },
      "execution_count": null,
      "outputs": []
    },
    {
      "cell_type": "code",
      "source": [
        "print(df.head(2))"
      ],
      "metadata": {
        "colab": {
          "base_uri": "https://localhost:8080/"
        },
        "collapsed": true,
        "id": "_JUQHLjibBj5",
        "outputId": "325aaa3b-735e-4802-ac56-67a195ffff67"
      },
      "execution_count": null,
      "outputs": [
        {
          "output_type": "stream",
          "name": "stdout",
          "text": [
            "     Sales Person Country          Product       Date  Amount  Boxes Shipped\n",
            "0  Jehu Rudeforth      UK  Mint Chip Choco 2022-01-04    5320            180\n",
            "1     Van Tuxwell   India    85% Dark Bars 2022-08-01    7896             94\n"
          ]
        }
      ]
    },
    {
      "cell_type": "code",
      "source": [
        "print(df.tail(2))"
      ],
      "metadata": {
        "colab": {
          "base_uri": "https://localhost:8080/"
        },
        "collapsed": true,
        "id": "2xnXZUu3bQm3",
        "outputId": "2a50cae6-0b6f-47cc-b873-162be3ca1fbc"
      },
      "execution_count": null,
      "outputs": [
        {
          "output_type": "stream",
          "name": "stdout",
          "text": [
            "          Sales Person Country         Product       Date  Amount  \\\n",
            "1092    Dotty Strutley   India         Eclairs 2022-07-28    2086   \n",
            "1093  Karlen McCaffrey   India  70% Dark Bites 2022-05-23    5075   \n",
            "\n",
            "      Boxes Shipped  \n",
            "1092            384  \n",
            "1093            344  \n"
          ]
        }
      ]
    },
    {
      "cell_type": "code",
      "source": [],
      "metadata": {
        "id": "nFMBa6hSbZGG"
      },
      "execution_count": null,
      "outputs": []
    }
  ]
}